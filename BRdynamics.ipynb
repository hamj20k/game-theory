{
  "nbformat": 4,
  "nbformat_minor": 0,
  "metadata": {
    "colab": {
      "provenance": []
    },
    "kernelspec": {
      "name": "python3",
      "display_name": "Python 3"
    },
    "language_info": {
      "name": "python"
    }
  },
  "cells": [
    {
      "cell_type": "code",
      "execution_count": 1,
      "metadata": {
        "colab": {
          "base_uri": "https://localhost:8080/"
        },
        "id": "VYZ18-ZrPGcJ",
        "outputId": "834c5337-eb32-4c7f-f2f0-c449ea3b15ad"
      },
      "outputs": [
        {
          "output_type": "stream",
          "name": "stdout",
          "text": [
            "Player 1 action history: [0, 1, 1, 1, 1, 1, 1, 1, 1, 1, 1]\n",
            "Player 2 action history: [1, 0, 0, 0, 0, 0, 0, 0, 0, 0, 0]\n"
          ]
        }
      ],
      "source": [
        "import numpy as np\n",
        "\n",
        "def best_response(M, opponent_action):\n",
        "    \"\"\"\n",
        "    Finds the best response action for a given player based on the opponent's action.\n",
        "    \"\"\"\n",
        "    return np.argmax(M[:, opponent_action])\n",
        "\n",
        "def BRdynamics(M1, M2, a1, a2, T):\n",
        "    \"\"\"\n",
        "    Simulates best response dynamics for a 2-player matrix game.\n",
        "\n",
        "    Parameters:\n",
        "    M1, M2: np.array\n",
        "        Reward matrices for players 1 and 2.\n",
        "    a1, a2: int\n",
        "        Initial actions for players 1 and 2 (0-indexed).\n",
        "    T: int\n",
        "        Number of stages to simulate.\n",
        "\n",
        "    Returns:\n",
        "    A1, A2: list\n",
        "        Histories of actions for players 1 and 2, respectively.\n",
        "    \"\"\"\n",
        "    A1 = [a1]  # Player 1's action history\n",
        "    A2 = [a2]  # Player 2's action history\n",
        "\n",
        "    for t in range(T):\n",
        "        # Player 1 best response to Player 2's last action\n",
        "        a1 = best_response(M1, A2[-1])\n",
        "        A1.append(a1)\n",
        "\n",
        "        # Player 2 best response to Player 1's last action\n",
        "        a2 = best_response(M2, A1[-1])\n",
        "        A2.append(a2)\n",
        "\n",
        "    return A1, A2\n",
        "\n",
        "# Example usage\n",
        "M1 = np.array([[3, 1], [5, 2]])  # Player 1's payoff matrix\n",
        "M2 = np.array([[2, 4], [1, 3]])  # Player 2's payoff matrix\n",
        "a1, a2 = 0, 1  # Initial actions\n",
        "T = 10  # Number of stages\n",
        "\n",
        "A1, A2 = BRdynamics(M1, M2, a1, a2, T)\n",
        "print(\"Player 1 action history:\", A1)\n",
        "print(\"Player 2 action history:\", A2)"
      ]
    }
  ]
}